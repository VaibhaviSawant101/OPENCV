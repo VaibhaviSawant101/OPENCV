{
 "cells": [
  {
   "cell_type": "code",
   "execution_count": 1,
   "id": "1b3aaf98",
   "metadata": {},
   "outputs": [],
   "source": [
    "import cv2 as cv"
   ]
  },
  {
   "cell_type": "code",
   "execution_count": 2,
   "id": "1ca574e1",
   "metadata": {},
   "outputs": [],
   "source": [
    "# returns matrix of images \n",
    "img = cv.imread(\"./RetinaDataset/Severe.png\")"
   ]
  },
  {
   "cell_type": "code",
   "execution_count": 3,
   "id": "e707c04a",
   "metadata": {},
   "outputs": [
    {
     "data": {
      "text/plain": [
       "-1"
      ]
     },
     "execution_count": 3,
     "metadata": {},
     "output_type": "execute_result"
    }
   ],
   "source": [
    "#display img as a new window\n",
    "#nameOfWindow, matrixOfImage\n",
    "cv.imshow(\"Retina\", img)\n",
    "\n",
    "#delay for 0 - infinity for to the key to be pressed\n",
    "cv.waitKey(0)"
   ]
  },
  {
   "cell_type": "code",
   "execution_count": 4,
   "id": "93b25f96",
   "metadata": {},
   "outputs": [
    {
     "data": {
      "text/plain": [
       "-1"
      ]
     },
     "execution_count": 4,
     "metadata": {},
     "output_type": "execute_result"
    }
   ],
   "source": [
    "#Reading videos\n",
    "#path / 0 - webcamera\n",
    "capture = cv.VideoCapture(0)\n",
    "while True:\n",
    "    #boolean frame was successfully read or not, frame, capture.read -read vedio frame by frame\n",
    "    isTrue, frame = capture.read()\n",
    "    cv.imshow(\"vedio\", frame)\n",
    "    if cv.waitKey(20) & 0xFF== ord('d'):\n",
    "        break\n",
    "capture.release()\n",
    "cv.destroyAllWindows()\n",
    "cv.waitKey(0)"
   ]
  }
 ],
 "metadata": {
  "kernelspec": {
   "display_name": "Python 3 (ipykernel)",
   "language": "python",
   "name": "python3"
  },
  "language_info": {
   "codemirror_mode": {
    "name": "ipython",
    "version": 3
   },
   "file_extension": ".py",
   "mimetype": "text/x-python",
   "name": "python",
   "nbconvert_exporter": "python",
   "pygments_lexer": "ipython3",
   "version": "3.9.7"
  }
 },
 "nbformat": 4,
 "nbformat_minor": 5
}

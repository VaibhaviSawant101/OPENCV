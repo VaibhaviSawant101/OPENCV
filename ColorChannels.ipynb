{
 "cells": [
  {
   "cell_type": "code",
   "execution_count": 1,
   "id": "edcbfad5",
   "metadata": {},
   "outputs": [],
   "source": [
    "import cv2 as cv\n",
    "import numpy as np"
   ]
  },
  {
   "cell_type": "code",
   "execution_count": 2,
   "id": "f349959d",
   "metadata": {},
   "outputs": [],
   "source": [
    "img = cv.imread(\"./RetinaDataset/Severe.png\")"
   ]
  },
  {
   "cell_type": "code",
   "execution_count": 3,
   "id": "6b01eb2b",
   "metadata": {},
   "outputs": [],
   "source": [
    "b,g,r = cv.split(img)"
   ]
  },
  {
   "cell_type": "code",
   "execution_count": 10,
   "id": "06bb12de",
   "metadata": {},
   "outputs": [
    {
     "data": {
      "text/plain": [
       "-1"
      ]
     },
     "execution_count": 10,
     "metadata": {},
     "output_type": "execute_result"
    }
   ],
   "source": [
    "cv.imshow(\"img\", img)\n",
    "cv.imshow(\"Blue\", b)\n",
    "cv.imshow(\"Green\", g)\n",
    "cv.imshow(\"Red\", r)\n",
    "cv.waitKey(0)"
   ]
  },
  {
   "cell_type": "code",
   "execution_count": 5,
   "id": "88243f37",
   "metadata": {},
   "outputs": [
    {
     "data": {
      "text/plain": [
       "(224, 224, 3)"
      ]
     },
     "execution_count": 5,
     "metadata": {},
     "output_type": "execute_result"
    }
   ],
   "source": [
    "img.shape"
   ]
  },
  {
   "cell_type": "code",
   "execution_count": 6,
   "id": "3c7b9394",
   "metadata": {},
   "outputs": [
    {
     "data": {
      "text/plain": [
       "(224, 224)"
      ]
     },
     "execution_count": 6,
     "metadata": {},
     "output_type": "execute_result"
    }
   ],
   "source": [
    "b.shape"
   ]
  },
  {
   "cell_type": "code",
   "execution_count": 7,
   "id": "6d10df84",
   "metadata": {},
   "outputs": [
    {
     "data": {
      "text/plain": [
       "(224, 224)"
      ]
     },
     "execution_count": 7,
     "metadata": {},
     "output_type": "execute_result"
    }
   ],
   "source": [
    "r.shape"
   ]
  },
  {
   "cell_type": "code",
   "execution_count": 8,
   "id": "9140ca8c",
   "metadata": {},
   "outputs": [
    {
     "data": {
      "text/plain": [
       "(224, 224)"
      ]
     },
     "execution_count": 8,
     "metadata": {},
     "output_type": "execute_result"
    }
   ],
   "source": [
    "g.shape"
   ]
  },
  {
   "cell_type": "code",
   "execution_count": 11,
   "id": "f41b1429",
   "metadata": {},
   "outputs": [
    {
     "data": {
      "text/plain": [
       "-1"
      ]
     },
     "execution_count": 11,
     "metadata": {},
     "output_type": "execute_result"
    }
   ],
   "source": [
    "merged = cv.merge([b, g, r])\n",
    "cv.imshow(\"merged\", merged)\n",
    "cv.waitKey(0)"
   ]
  },
  {
   "cell_type": "code",
   "execution_count": 12,
   "id": "5863675b",
   "metadata": {},
   "outputs": [],
   "source": [
    "blank = np.zeros(img.shape[:2], dtype=\"uint8\")"
   ]
  },
  {
   "cell_type": "code",
   "execution_count": 14,
   "id": "a3a89c20",
   "metadata": {},
   "outputs": [],
   "source": [
    "blue = cv.merge([b, blank, blank])\n",
    "red = cv.merge([blank, blank, r])\n",
    "green = cv.merge([blank, g, blank])"
   ]
  },
  {
   "cell_type": "code",
   "execution_count": 15,
   "id": "5da65dad",
   "metadata": {},
   "outputs": [
    {
     "data": {
      "text/plain": [
       "-1"
      ]
     },
     "execution_count": 15,
     "metadata": {},
     "output_type": "execute_result"
    }
   ],
   "source": [
    "cv.imshow(\"img\", img)\n",
    "cv.imshow(\"Blue\", blue)\n",
    "cv.imshow(\"Green\", green)\n",
    "cv.imshow(\"Red\", red)\n",
    "cv.waitKey(0)"
   ]
  }
 ],
 "metadata": {
  "kernelspec": {
   "display_name": "Python 3 (ipykernel)",
   "language": "python",
   "name": "python3"
  },
  "language_info": {
   "codemirror_mode": {
    "name": "ipython",
    "version": 3
   },
   "file_extension": ".py",
   "mimetype": "text/x-python",
   "name": "python",
   "nbconvert_exporter": "python",
   "pygments_lexer": "ipython3",
   "version": "3.9.7"
  }
 },
 "nbformat": 4,
 "nbformat_minor": 5
}
